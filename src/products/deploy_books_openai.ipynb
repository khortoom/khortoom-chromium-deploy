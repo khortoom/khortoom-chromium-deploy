{
 "cells": [
  {
   "cell_type": "code",
   "execution_count": 17,
   "metadata": {},
   "outputs": [],
   "source": [
    "DATA_PATH = \"../../data/books-sample/products.csv\"\n",
    "NORMALIZED_DATA_PATH = \"../../data/books-sample/normalized_products.csv\"\n",
    "COLLECTION_NAME = \"products_books_openai\""
   ]
  },
  {
   "cell_type": "code",
   "execution_count": 5,
   "metadata": {},
   "outputs": [],
   "source": [
    "import os\n",
    "from dotenv import load_dotenv\n",
    "import chromadb\n",
    "from chromadb.config import Settings\n",
    "\n",
    "load_dotenv(\".env\")\n",
    "\n",
    "CHROMA_SERVER_AUTH_CREDENTIALS = os.getenv(\"CHROMA_SERVER_AUTH_CREDENTIALS\")\n",
    "\n",
    "client = chromadb.HttpClient(\n",
    "    host=\"https://chroma.liara.run\",\n",
    "    settings=Settings(\n",
    "        chroma_client_auth_provider=\"chromadb.auth.token_authn.TokenAuthClientProvider\",\n",
    "        chroma_client_auth_credentials=CHROMA_SERVER_AUTH_CREDENTIALS,\n",
    "    ),\n",
    ")"
   ]
  },
  {
   "cell_type": "code",
   "execution_count": 1,
   "metadata": {},
   "outputs": [],
   "source": [
    "from hazm import *\n",
    "\n",
    "normalizer = Normalizer()"
   ]
  },
  {
   "cell_type": "code",
   "execution_count": 14,
   "metadata": {},
   "outputs": [],
   "source": [
    "import pandas as pd\n",
    "\n",
    "sample_products = pd.read_csv(DATA_PATH)\n",
    "# drop duplicates\n",
    "sample_products = sample_products.drop_duplicates(subset=[\"id\"])\n",
    "sample_products[\"normalized_title_fa\"] = sample_products[\"title_fa\"].apply(\n",
    "    lambda x: normalizer.normalize(x)\n",
    ")\n",
    "\n",
    "# save to file\n",
    "sample_products.to_csv(\"../../data/books-sample/normalized_products.csv\", index=False)"
   ]
  },
  {
   "cell_type": "code",
   "execution_count": 10,
   "metadata": {},
   "outputs": [],
   "source": [
    "import os\n",
    "from dotenv import load_dotenv\n",
    "from openai import OpenAI\n",
    "\n",
    "load_dotenv(\".env\")\n",
    "\n",
    "OPENAI_API_KEY = os.getenv(\"OPENAI_API_KEY\")\n",
    "OPENAI_BASE_URL = os.getenv(\"OPENAI_BASE_URL\")\n",
    "\n",
    "\n",
    "openai_client = OpenAI(api_key=OPENAI_API_KEY, base_url=OPENAI_BASE_URL)"
   ]
  },
  {
   "cell_type": "code",
   "execution_count": 7,
   "metadata": {},
   "outputs": [
    {
     "data": {
      "text/plain": [
       "Collection(name=products_books_openai)"
      ]
     },
     "execution_count": 7,
     "metadata": {},
     "output_type": "execute_result"
    }
   ],
   "source": [
    "client.create_collection(name=COLLECTION_NAME)"
   ]
  },
  {
   "cell_type": "code",
   "execution_count": null,
   "metadata": {},
   "outputs": [],
   "source": [
    "import pandas as pd\n",
    "\n",
    "sample_products = pd.read_csv(NORMALIZED_DATA_PATH)\n",
    "\n",
    "documents = []\n",
    "ids = []\n",
    "metadatas = []\n",
    "embeddings = []\n",
    "\n",
    "for i, row in sample_products.iterrows():\n",
    "    print(i, row[\"normalized_title_fa\"])\n",
    "    embedding = (\n",
    "        openai_client.embeddings.create(\n",
    "            input=row[\"normalized_title_fa\"], model=\"text-embedding-3-small\"\n",
    "        )\n",
    "        .data[0]\n",
    "        .embedding\n",
    "    )\n",
    "\n",
    "    ids.append(str(row[\"id\"]))\n",
    "    documents.append(row[\"normalized_title_fa\"])\n",
    "    embeddings.append(embedding)\n",
    "    metadatas.append(row.to_dict())"
   ]
  },
  {
   "cell_type": "code",
   "execution_count": null,
   "metadata": {},
   "outputs": [],
   "source": [
    "product_collection = client.get_collection(name=COLLECTION_NAME)\n",
    "\n",
    "product_collection.upsert(\n",
    "    documents=documents,\n",
    "    metadatas=metadatas,\n",
    "    ids=ids,\n",
    "    embeddings=embeddings,\n",
    ")\n",
    "\n",
    "print(product_collection.peek(limit=5))"
   ]
  }
 ],
 "metadata": {
  "kernelspec": {
   "display_name": "env",
   "language": "python",
   "name": "python3"
  },
  "language_info": {
   "codemirror_mode": {
    "name": "ipython",
    "version": 3
   },
   "file_extension": ".py",
   "mimetype": "text/x-python",
   "name": "python",
   "nbconvert_exporter": "python",
   "pygments_lexer": "ipython3",
   "version": "3.12.0"
  }
 },
 "nbformat": 4,
 "nbformat_minor": 2
}

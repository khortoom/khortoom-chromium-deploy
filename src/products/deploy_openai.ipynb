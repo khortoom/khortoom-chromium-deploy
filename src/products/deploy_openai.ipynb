{
 "cells": [
  {
   "cell_type": "code",
   "execution_count": 4,
   "metadata": {},
   "outputs": [],
   "source": [
    "import os\n",
    "from dotenv import load_dotenv\n",
    "import chromadb\n",
    "from chromadb.config import Settings\n",
    "\n",
    "load_dotenv(\".env\")\n",
    "\n",
    "CHROMA_SERVER_AUTH_CREDENTIALS = os.getenv(\"CHROMA_SERVER_AUTH_CREDENTIALS\")\n",
    "\n",
    "client = chromadb.HttpClient(\n",
    "    host=\"https://chroma.liara.run\",\n",
    "    settings=Settings(\n",
    "        chroma_client_auth_provider=\"chromadb.auth.token_authn.TokenAuthClientProvider\",\n",
    "        chroma_client_auth_credentials=CHROMA_SERVER_AUTH_CREDENTIALS,\n",
    "    ),\n",
    ")"
   ]
  },
  {
   "cell_type": "code",
   "execution_count": null,
   "metadata": {},
   "outputs": [],
   "source": [
    "import os\n",
    "from dotenv import load_dotenv\n",
    "from openai import OpenAI\n",
    "\n",
    "load_dotenv(\".env\")\n",
    "\n",
    "OPENAI_API_KEY = os.getenv(\"OPENAI_API_KEY\")\n",
    "OPENAI_ORG_ID = os.getenv(\"OPENAI_ORG_ID\")\n",
    "\n",
    "openai_client = OpenAI(\n",
    "    api_key=OPENAI_API_KEY,\n",
    "    organization=OPENAI_ORG_ID,\n",
    ")\n",
    "\n",
    "embedding = (\n",
    "    openai_client.embeddings.create(\n",
    "        input=\"رونالدو\", model=\"text-embedding-3-small\"\n",
    "    )\n",
    "    .data[0]\n",
    "    .embedding\n",
    ")\n",
    "\n",
    "print(embedding)"
   ]
  },
  {
   "cell_type": "code",
   "execution_count": null,
   "metadata": {},
   "outputs": [],
   "source": [
    "client.create_collection(name=\"products_openai\")"
   ]
  },
  {
   "cell_type": "code",
   "execution_count": null,
   "metadata": {},
   "outputs": [],
   "source": [
    "import pandas as pd\n",
    "\n",
    "sample_products = pd.read_csv(\"../../data/sample/products.csv\")\n",
    "product_collection = client.get_collection(name=\"products_openai\")\n",
    "\n",
    "documents = []\n",
    "ids = []\n",
    "metadatas = []\n",
    "embeddings = []\n",
    "\n",
    "for i, row in sample_products.iterrows():\n",
    "    if i <= 180: \n",
    "        continue\n",
    "    print(i, row[\"title_fa\"])\n",
    "    embedding = (\n",
    "        openai_client.embeddings.create(\n",
    "            input=row[\"title_fa\"], model=\"text-embedding-3-small\"\n",
    "        )\n",
    "        .data[0]\n",
    "        .embedding\n",
    "    )\n",
    "    ids.append(str(row[\"id\"]))\n",
    "    documents.append(row[\"title_fa\"])\n",
    "    embeddings.append(embedding)\n",
    "    metadatas.append(row.to_dict())"
   ]
  },
  {
   "cell_type": "code",
   "execution_count": null,
   "metadata": {},
   "outputs": [],
   "source": [
    "product_collection = client.get_collection(name=\"products_openai\")\n",
    "\n",
    "product_collection.upsert(\n",
    "    documents=documents,\n",
    "    metadatas=metadatas,\n",
    "    ids=ids,\n",
    "    embeddings=embeddings,\n",
    ")\n",
    "\n",
    "print(product_collection.peek(limit=5))"
   ]
  }
 ],
 "metadata": {
  "kernelspec": {
   "display_name": "env",
   "language": "python",
   "name": "python3"
  },
  "language_info": {
   "codemirror_mode": {
    "name": "ipython",
    "version": 3
   },
   "file_extension": ".py",
   "mimetype": "text/x-python",
   "name": "python",
   "nbconvert_exporter": "python",
   "pygments_lexer": "ipython3",
   "version": "3.12.0"
  }
 },
 "nbformat": 4,
 "nbformat_minor": 2
}
